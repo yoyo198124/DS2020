{
 "cells": [
  {
   "cell_type": "code",
   "execution_count": 3,
   "metadata": {},
   "outputs": [
    {
     "name": "stdout",
     "output_type": "stream",
     "text": [
      "(10, 100)\n",
      "多输出多分类器真实输出分类:\n",
      " [[2 2 0]\n",
      " [1 2 1]\n",
      " [2 1 0]\n",
      " [0 0 2]\n",
      " [0 2 1]\n",
      " [0 0 2]\n",
      " [1 1 0]\n",
      " [1 1 1]\n",
      " [0 0 2]\n",
      " [2 0 0]]\n",
      "多输出多分类器预测输出分类:\n",
      " [[2 2 0]\n",
      " [1 2 1]\n",
      " [2 1 0]\n",
      " [0 0 2]\n",
      " [0 2 1]\n",
      " [0 0 2]\n",
      " [1 1 0]\n",
      " [1 1 1]\n",
      " [0 0 2]\n",
      " [2 0 0]]\n"
     ]
    }
   ],
   "source": [
    "# =========多输出分类================\n",
    "from sklearn.datasets import make_classification\n",
    "from sklearn.multioutput import MultiOutputClassifier\n",
    "from sklearn.ensemble import RandomForestClassifier\n",
    "from sklearn.utils import shuffle\n",
    "import numpy as np\n",
    "X, y1 = make_classification(n_samples=10, n_features=100, n_informative=30, n_classes=3, random_state=1) # 生成分类数据集，10个样本，100个特征，30个有效特征，3种分类\n",
    "y2 = shuffle(y1, random_state=1)  # 分类结果随机排序\n",
    "y3 = shuffle(y1, random_state=2)  # 分类结果随机排序\n",
    "Y = np.vstack((y1, y2, y3)).T  # 多种分类结果组合成\n",
    "#print(X,y1,y2,y3)\n",
    "print(X.shape)\n",
    "print('多输出多分类器真实输出分类:\\n',Y)\n",
    "n_samples, n_features = X.shape # 10,100\n",
    "n_outputs = Y.shape[1] # 3个输出\n",
    "n_classes = 3 # 每种输出有3种分类\n",
    "forest = RandomForestClassifier(n_estimators=100, random_state=1)  # 生成随机森林多分类器\n",
    "multi_target_forest = MultiOutputClassifier(forest)  # 构建多输出多分类器\n",
    "y_pred = multi_target_forest.fit(X, Y).predict(X)\n",
    "print('多输出多分类器预测输出分类:\\n',y_pred)"
   ]
  },
  {
   "cell_type": "code",
   "execution_count": null,
   "metadata": {},
   "outputs": [],
   "source": []
  },
  {
   "cell_type": "code",
   "execution_count": null,
   "metadata": {},
   "outputs": [],
   "source": []
  },
  {
   "cell_type": "code",
   "execution_count": null,
   "metadata": {},
   "outputs": [],
   "source": []
  }
 ],
 "metadata": {
  "kernelspec": {
   "display_name": "uda",
   "language": "python",
   "name": "uda"
  },
  "language_info": {
   "codemirror_mode": {
    "name": "ipython",
    "version": 3
   },
   "file_extension": ".py",
   "mimetype": "text/x-python",
   "name": "python",
   "nbconvert_exporter": "python",
   "pygments_lexer": "ipython3",
   "version": "3.7.6"
  },
  "toc": {
   "base_numbering": 1,
   "nav_menu": {},
   "number_sections": true,
   "sideBar": true,
   "skip_h1_title": false,
   "title_cell": "Table of Contents",
   "title_sidebar": "Contents",
   "toc_cell": false,
   "toc_position": {},
   "toc_section_display": true,
   "toc_window_display": false
  }
 },
 "nbformat": 4,
 "nbformat_minor": 2
}
